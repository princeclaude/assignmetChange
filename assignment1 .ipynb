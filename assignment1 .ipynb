{
 "cells": [
  {
   "cell_type": "code",
   "execution_count": null,
   "id": "9777d889",
   "metadata": {},
   "outputs": [],
   "source": [
    "def kola():\n",
    "    print(\"you are placed on 50litres of fuel consumption for 3days and you must work 6 days a week\")\n",
    "    m = 100\n",
    "    weeks = 4\n",
    "    months = 3\n",
    "    total = m  * weeks * months\n",
    "    i = input (\"how many weeks ? \")\n",
    "    k = input (\"how many months ? \")\n",
    "    x = int (m) * int (i) * int (k)\n",
    "    print(\"your fuel consumption in\", k, \"months is,\", x, \"litres\")\n",
    "    \n",
    "    \n",
    "\n",
    "kola()"
   ]
  }
 ],
 "metadata": {
  "kernelspec": {
   "display_name": "Python 3 (ipykernel)",
   "language": "python",
   "name": "python3"
  },
  "language_info": {
   "codemirror_mode": {
    "name": "ipython",
    "version": 3
   },
   "file_extension": ".py",
   "mimetype": "text/x-python",
   "name": "python",
   "nbconvert_exporter": "python",
   "pygments_lexer": "ipython3",
   "version": "3.11.1"
  }
 },
 "nbformat": 4,
 "nbformat_minor": 5
}
